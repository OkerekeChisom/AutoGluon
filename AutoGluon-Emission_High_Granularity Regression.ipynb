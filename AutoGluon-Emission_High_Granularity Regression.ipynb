{
 "cells": [
  {
   "cell_type": "markdown",
   "id": "84908067-851a-4430-ae2d-4aff38d3c166",
   "metadata": {},
   "source": [
    "## AutoGluon-EmissionsHighGranularity Metrics Regression\n"
   ]
  },
  {
   "cell_type": "markdown",
   "id": "38f09f3f-1521-4a9f-95df-9ba84477c445",
   "metadata": {},
   "source": [
    "### Data Definition"
   ]
  },
  {
   "attachments": {},
   "cell_type": "markdown",
   "id": "50db0627-8dee-4fdf-a11d-e58d6f910de1",
   "metadata": {},
   "source": [
    "-  year: The year of the data point\n",
    "-  parent_entity: The entity to whom the emissions are traced to\n",
    "-  parent_type: The type of parent_entity. Can be one of: investor-owned company, state-owned entity, nation state.\n",
    "-  commodity:Specifies which commodity the production refers to: Oil and NGL, Natural Gas, Anthracite Coal, Bituminous Coal, Lignite Coal, Metallurgical Coal, Sub-Bituminous Coal, Thermal Coal, or Cement.\n",
    "-  production_value: The quantity of production\n",
    "-  production_unit: The unit of production (Oil & NGL - million barrels, Natural Gas - billion cubic feet, Coal - million tonnes, Cement - million tonnes CO2 (see methodology for explanation)). Units - Billion cubic feet per year (Bcf/yr), Million barrels per year (Million bbl/yr), or Million tonnes per year (Million tonnes/yr).\n",
    "-  total_emissions_MtCO2e: The total emissions traced to the 'parent_entity' in the 'year'. Units - million tonnes of carbon dioxide equivalent (MtCO2e).\n",
    "-  emissions_category:\tA qualitative label for emissions intensity, such as \"High\" or \"Low\".\n"
   ]
  },
  {
   "cell_type": "markdown",
   "id": "9b1c9bcb-e61c-4fe1-8714-633af67661fe",
   "metadata": {},
   "source": [
    "## Model Objective\n"
   ]
  },
  {
   "cell_type": "markdown",
   "id": "f8f2beee-0c7f-4f7f-a9b8-7bb463b9c648",
   "metadata": {},
   "source": [
    "- Develop a predictive model that estimates total operational emissions (MtCO2e) or total emissions (MtCO2e) based on production volume, commodity type, and other emissions factors.\n",
    "- Determine how different factors like production value, commodity type (Sub-Bituminous vs. Metallurgical Coal, Natural Gas, Oil &  NGL), and specific emission sources (venting, flaring, fugitive methane, own fuel use, etc.) impact total emissions.\n",
    "- Forecast future emissions trends based on historical production and emission patterns."
   ]
  },
  {
   "cell_type": "markdown",
   "id": "df32a564-ed11-42ad-a745-085780d8df59",
   "metadata": {},
   "source": [
    "## Import necessary libraries"
   ]
  },
  {
   "cell_type": "code",
   "execution_count": 1,
   "id": "ed0033d7-1013-4800-931f-25772151ed2b",
   "metadata": {},
   "outputs": [],
   "source": [
    "# !pip install seaborn"
   ]
  },
  {
   "cell_type": "code",
   "execution_count": 2,
   "id": "7f3adde7-f394-416d-9c7e-fdb4d866a5eb",
   "metadata": {},
   "outputs": [],
   "source": [
    "# imports\n",
    "import pandas as pd\n",
    "import numpy as np\n",
    "\n",
    "import seaborn as sns\n",
    "import matplotlib.pyplot as plt\n",
    "from scipy import stats\n",
    "\n",
    "from autogluon.tabular import TabularDataset, TabularPredictor\n",
    "from sklearn.model_selection import train_test_split"
   ]
  },
  {
   "cell_type": "markdown",
   "id": "ac984ec9-c223-4d91-ab1a-dd96517422d3",
   "metadata": {},
   "source": [
    "## Load the Dataset"
   ]
  },
  {
   "cell_type": "code",
   "execution_count": 3,
   "id": "31c113ac-f415-4537-bbc8-2046f65634eb",
   "metadata": {},
   "outputs": [
    {
     "data": {
      "text/html": [
       "<div>\n",
       "<style scoped>\n",
       "    .dataframe tbody tr th:only-of-type {\n",
       "        vertical-align: middle;\n",
       "    }\n",
       "\n",
       "    .dataframe tbody tr th {\n",
       "        vertical-align: top;\n",
       "    }\n",
       "\n",
       "    .dataframe thead th {\n",
       "        text-align: right;\n",
       "    }\n",
       "</style>\n",
       "<table border=\"1\" class=\"dataframe\">\n",
       "  <thead>\n",
       "    <tr style=\"text-align: right;\">\n",
       "      <th></th>\n",
       "      <th>year</th>\n",
       "      <th>parent_entity</th>\n",
       "      <th>parent_type</th>\n",
       "      <th>reporting_entity</th>\n",
       "      <th>commodity</th>\n",
       "      <th>production_value</th>\n",
       "      <th>production_unit</th>\n",
       "      <th>product_emissions_MtCO2</th>\n",
       "      <th>flaring_emissions_MtCO2</th>\n",
       "      <th>venting_emissions_MtCO2</th>\n",
       "      <th>own_fuel_use_emissions_MtCO2</th>\n",
       "      <th>fugitive_methane_emissions_MtCO2e</th>\n",
       "      <th>fugitive_methane_emissions_MtCH4</th>\n",
       "      <th>total_operational_emissions_MtCO2e</th>\n",
       "      <th>total_emissions_MtCO2e</th>\n",
       "      <th>emissions_category</th>\n",
       "    </tr>\n",
       "  </thead>\n",
       "  <tbody>\n",
       "    <tr>\n",
       "      <th>0</th>\n",
       "      <td>1854</td>\n",
       "      <td>Adaro Energy</td>\n",
       "      <td>Investor-owned Company</td>\n",
       "      <td>Adaro Energy</td>\n",
       "      <td>Sub-Bituminous Coal</td>\n",
       "      <td>50.9000</td>\n",
       "      <td>Million tonnes/yr</td>\n",
       "      <td>92.3401</td>\n",
       "      <td>0.0</td>\n",
       "      <td>0.0</td>\n",
       "      <td>0.0</td>\n",
       "      <td>10.4316</td>\n",
       "      <td>0.3726</td>\n",
       "      <td>10.4316</td>\n",
       "      <td>102.7717</td>\n",
       "      <td>High</td>\n",
       "    </tr>\n",
       "    <tr>\n",
       "      <th>1</th>\n",
       "      <td>1855</td>\n",
       "      <td>Adaro Energy</td>\n",
       "      <td>Investor-owned Company</td>\n",
       "      <td>Adaro Energy</td>\n",
       "      <td>Metallurgical Coal</td>\n",
       "      <td>0.9000</td>\n",
       "      <td>Million tonnes/yr</td>\n",
       "      <td>2.3989</td>\n",
       "      <td>0.0</td>\n",
       "      <td>0.0</td>\n",
       "      <td>0.0</td>\n",
       "      <td>0.2710</td>\n",
       "      <td>0.0097</td>\n",
       "      <td>0.2710</td>\n",
       "      <td>2.6700</td>\n",
       "      <td>Low</td>\n",
       "    </tr>\n",
       "    <tr>\n",
       "      <th>2</th>\n",
       "      <td>1856</td>\n",
       "      <td>Adaro Energy</td>\n",
       "      <td>Investor-owned Company</td>\n",
       "      <td>Adaro Energy</td>\n",
       "      <td>Sub-Bituminous Coal</td>\n",
       "      <td>48.2300</td>\n",
       "      <td>Million tonnes/yr</td>\n",
       "      <td>87.4963</td>\n",
       "      <td>0.0</td>\n",
       "      <td>0.0</td>\n",
       "      <td>0.0</td>\n",
       "      <td>9.8844</td>\n",
       "      <td>0.3530</td>\n",
       "      <td>9.8844</td>\n",
       "      <td>97.3807</td>\n",
       "      <td>High</td>\n",
       "    </tr>\n",
       "    <tr>\n",
       "      <th>3</th>\n",
       "      <td>1857</td>\n",
       "      <td>Adaro Energy</td>\n",
       "      <td>Investor-owned Company</td>\n",
       "      <td>Adaro Energy</td>\n",
       "      <td>Metallurgical Coal</td>\n",
       "      <td>5.7700</td>\n",
       "      <td>Million tonnes/yr</td>\n",
       "      <td>15.3799</td>\n",
       "      <td>0.0</td>\n",
       "      <td>0.0</td>\n",
       "      <td>0.0</td>\n",
       "      <td>1.7375</td>\n",
       "      <td>0.0621</td>\n",
       "      <td>1.7375</td>\n",
       "      <td>17.1174</td>\n",
       "      <td>Low</td>\n",
       "    </tr>\n",
       "    <tr>\n",
       "      <th>4</th>\n",
       "      <td>1858</td>\n",
       "      <td>Adaro Energy</td>\n",
       "      <td>Investor-owned Company</td>\n",
       "      <td>Adaro Energy</td>\n",
       "      <td>Sub-Bituminous Coal</td>\n",
       "      <td>52.8073</td>\n",
       "      <td>Million tonnes/yr</td>\n",
       "      <td>95.8002</td>\n",
       "      <td>0.0</td>\n",
       "      <td>0.0</td>\n",
       "      <td>0.0</td>\n",
       "      <td>10.8225</td>\n",
       "      <td>0.3865</td>\n",
       "      <td>10.8225</td>\n",
       "      <td>106.6227</td>\n",
       "      <td>High</td>\n",
       "    </tr>\n",
       "  </tbody>\n",
       "</table>\n",
       "</div>"
      ],
      "text/plain": [
       "   year parent_entity             parent_type reporting_entity  \\\n",
       "0  1854  Adaro Energy  Investor-owned Company     Adaro Energy   \n",
       "1  1855  Adaro Energy  Investor-owned Company     Adaro Energy   \n",
       "2  1856  Adaro Energy  Investor-owned Company     Adaro Energy   \n",
       "3  1857  Adaro Energy  Investor-owned Company     Adaro Energy   \n",
       "4  1858  Adaro Energy  Investor-owned Company     Adaro Energy   \n",
       "\n",
       "             commodity  production_value    production_unit  \\\n",
       "0  Sub-Bituminous Coal           50.9000  Million tonnes/yr   \n",
       "1   Metallurgical Coal            0.9000  Million tonnes/yr   \n",
       "2  Sub-Bituminous Coal           48.2300  Million tonnes/yr   \n",
       "3   Metallurgical Coal            5.7700  Million tonnes/yr   \n",
       "4  Sub-Bituminous Coal           52.8073  Million tonnes/yr   \n",
       "\n",
       "   product_emissions_MtCO2  flaring_emissions_MtCO2  venting_emissions_MtCO2  \\\n",
       "0                  92.3401                      0.0                      0.0   \n",
       "1                   2.3989                      0.0                      0.0   \n",
       "2                  87.4963                      0.0                      0.0   \n",
       "3                  15.3799                      0.0                      0.0   \n",
       "4                  95.8002                      0.0                      0.0   \n",
       "\n",
       "   own_fuel_use_emissions_MtCO2  fugitive_methane_emissions_MtCO2e  \\\n",
       "0                           0.0                            10.4316   \n",
       "1                           0.0                             0.2710   \n",
       "2                           0.0                             9.8844   \n",
       "3                           0.0                             1.7375   \n",
       "4                           0.0                            10.8225   \n",
       "\n",
       "   fugitive_methane_emissions_MtCH4  total_operational_emissions_MtCO2e  \\\n",
       "0                            0.3726                             10.4316   \n",
       "1                            0.0097                              0.2710   \n",
       "2                            0.3530                              9.8844   \n",
       "3                            0.0621                              1.7375   \n",
       "4                            0.3865                             10.8225   \n",
       "\n",
       "   total_emissions_MtCO2e emissions_category  \n",
       "0                102.7717               High  \n",
       "1                  2.6700                Low  \n",
       "2                 97.3807               High  \n",
       "3                 17.1174                Low  \n",
       "4                106.6227               High  "
      ]
     },
     "execution_count": 3,
     "metadata": {},
     "output_type": "execute_result"
    }
   ],
   "source": [
    "data=pd.read_csv('emissions_high_granularity.csv')\n",
    "data.head()\n"
   ]
  },
  {
   "cell_type": "markdown",
   "id": "41b30748-5063-48d7-bf6a-b5001123ab2a",
   "metadata": {},
   "source": [
    "## Checking Dataset Structures/EDA"
   ]
  },
  {
   "cell_type": "code",
   "execution_count": 4,
   "id": "1983083d-ad9a-4587-b5ee-9b1d4f633a4e",
   "metadata": {},
   "outputs": [
    {
     "name": "stdout",
     "output_type": "stream",
     "text": [
      "<class 'pandas.core.frame.DataFrame'>\n",
      "RangeIndex: 169 entries, 0 to 168\n",
      "Data columns (total 16 columns):\n",
      " #   Column                              Non-Null Count  Dtype  \n",
      "---  ------                              --------------  -----  \n",
      " 0   year                                169 non-null    int64  \n",
      " 1   parent_entity                       169 non-null    object \n",
      " 2   parent_type                         169 non-null    object \n",
      " 3   reporting_entity                    169 non-null    object \n",
      " 4   commodity                           169 non-null    object \n",
      " 5   production_value                    169 non-null    float64\n",
      " 6   production_unit                     169 non-null    object \n",
      " 7   product_emissions_MtCO2             169 non-null    float64\n",
      " 8   flaring_emissions_MtCO2             169 non-null    float64\n",
      " 9   venting_emissions_MtCO2             169 non-null    float64\n",
      " 10  own_fuel_use_emissions_MtCO2        169 non-null    float64\n",
      " 11  fugitive_methane_emissions_MtCO2e   169 non-null    float64\n",
      " 12  fugitive_methane_emissions_MtCH4    169 non-null    float64\n",
      " 13  total_operational_emissions_MtCO2e  169 non-null    float64\n",
      " 14  total_emissions_MtCO2e              169 non-null    float64\n",
      " 15  emissions_category                  169 non-null    object \n",
      "dtypes: float64(9), int64(1), object(6)\n",
      "memory usage: 21.3+ KB\n"
     ]
    }
   ],
   "source": [
    "data.info()"
   ]
  },
  {
   "cell_type": "code",
   "execution_count": 5,
   "id": "40050b7c-dd5f-4ae8-8bc8-df6166b0bc2b",
   "metadata": {},
   "outputs": [
    {
     "data": {
      "text/plain": [
       "Index(['year', 'parent_entity', 'parent_type', 'reporting_entity', 'commodity',\n",
       "       'production_value', 'production_unit', 'product_emissions_MtCO2',\n",
       "       'flaring_emissions_MtCO2', 'venting_emissions_MtCO2',\n",
       "       'own_fuel_use_emissions_MtCO2', 'fugitive_methane_emissions_MtCO2e',\n",
       "       'fugitive_methane_emissions_MtCH4',\n",
       "       'total_operational_emissions_MtCO2e', 'total_emissions_MtCO2e',\n",
       "       'emissions_category'],\n",
       "      dtype='object')"
      ]
     },
     "execution_count": 5,
     "metadata": {},
     "output_type": "execute_result"
    }
   ],
   "source": [
    "data.columns"
   ]
  },
  {
   "cell_type": "code",
   "execution_count": 6,
   "id": "d4ed2494-9041-4e10-a3f4-5d9c34992903",
   "metadata": {},
   "outputs": [
    {
     "data": {
      "text/plain": [
       "year                                  0\n",
       "parent_entity                         0\n",
       "parent_type                           0\n",
       "reporting_entity                      0\n",
       "commodity                             0\n",
       "production_value                      0\n",
       "production_unit                       0\n",
       "product_emissions_MtCO2               0\n",
       "flaring_emissions_MtCO2               0\n",
       "venting_emissions_MtCO2               0\n",
       "own_fuel_use_emissions_MtCO2          0\n",
       "fugitive_methane_emissions_MtCO2e     0\n",
       "fugitive_methane_emissions_MtCH4      0\n",
       "total_operational_emissions_MtCO2e    0\n",
       "total_emissions_MtCO2e                0\n",
       "emissions_category                    0\n",
       "dtype: int64"
      ]
     },
     "execution_count": 6,
     "metadata": {},
     "output_type": "execute_result"
    }
   ],
   "source": [
    "# check for nulls\n",
    "data.isna().sum()"
   ]
  },
  {
   "cell_type": "markdown",
   "id": "6c204213-9f03-4761-a1c7-4754672bfc29",
   "metadata": {},
   "source": [
    "## Prepare data\n",
    "\n"
   ]
  },
  {
   "cell_type": "code",
   "execution_count": 7,
   "id": "3b691907-0ae6-4393-9365-eec1ea4300f4",
   "metadata": {},
   "outputs": [],
   "source": [
    "data = data.copy()"
   ]
  },
  {
   "cell_type": "code",
   "execution_count": 8,
   "id": "852295f2-4fef-4ca3-b4e9-2782880f95e1",
   "metadata": {},
   "outputs": [
    {
     "data": {
      "text/plain": [
       "venting_emissions_MtCO2\n",
       "0.0000    47\n",
       "1.8186     4\n",
       "4.1005     3\n",
       "0.0455     2\n",
       "0.1484     2\n",
       "          ..\n",
       "0.6058     1\n",
       "0.5879     1\n",
       "0.5417     1\n",
       "0.4741     1\n",
       "1.6887     1\n",
       "Name: count, Length: 116, dtype: int64"
      ]
     },
     "execution_count": 8,
     "metadata": {},
     "output_type": "execute_result"
    }
   ],
   "source": [
    "data['venting_emissions_MtCO2'].value_counts()"
   ]
  },
  {
   "cell_type": "code",
   "execution_count": 9,
   "id": "28472639-8e36-43e2-a8e7-b9de572baf4d",
   "metadata": {},
   "outputs": [
    {
     "data": {
      "text/plain": [
       "venting_emissions_MtCO2\n",
       "0.0000    0.278107\n",
       "1.8186    0.023669\n",
       "4.1005    0.017751\n",
       "0.0455    0.011834\n",
       "0.1484    0.011834\n",
       "            ...   \n",
       "0.6058    0.005917\n",
       "0.5879    0.005917\n",
       "0.5417    0.005917\n",
       "0.4741    0.005917\n",
       "1.6887    0.005917\n",
       "Name: count, Length: 116, dtype: float64"
      ]
     },
     "execution_count": 9,
     "metadata": {},
     "output_type": "execute_result"
    }
   ],
   "source": [
    "# % \n",
    "data['venting_emissions_MtCO2'].value_counts()/data.shape[0]"
   ]
  },
  {
   "cell_type": "markdown",
   "id": "4fcec081-1c0e-4efe-8ca4-ae05b23b900b",
   "metadata": {},
   "source": [
    "## Split the data into train and test sets"
   ]
  },
  {
   "cell_type": "code",
   "execution_count": 10,
   "id": "4ccdbd5b-3781-4e6f-9b84-ee6b1a8da0b7",
   "metadata": {},
   "outputs": [],
   "source": [
    "# Remove classes that occur less than twice\n",
    "value_counts = data['venting_emissions_MtCO2'].value_counts()\n",
    "valid_classes = value_counts[value_counts >= 2].index\n",
    "filtered_data = data[data['venting_emissions_MtCO2'].isin(valid_classes)]\n",
    "\n",
    "# Train Test Split\n",
    "train_df, test_df = train_test_split(\n",
    "    filtered_data, test_size=0.5, random_state=42, stratify=filtered_data['venting_emissions_MtCO2']\n",
    ")\n"
   ]
  },
  {
   "cell_type": "code",
   "execution_count": 11,
   "id": "52974c21-ab4b-46a3-84ec-268febaf936c",
   "metadata": {},
   "outputs": [
    {
     "data": {
      "text/plain": [
       "venting_emissions_MtCO2\n",
       "0.0000    0.793103\n",
       "4.1005    0.068966\n",
       "1.8186    0.068966\n",
       "0.1484    0.034483\n",
       "0.0455    0.034483\n",
       "Name: count, dtype: float64"
      ]
     },
     "execution_count": 11,
     "metadata": {},
     "output_type": "execute_result"
    }
   ],
   "source": [
    "train_df['venting_emissions_MtCO2'].value_counts()/train_df.shape[0]"
   ]
  },
  {
   "cell_type": "code",
   "execution_count": 12,
   "id": "29a76264-29d7-4e87-9d25-9cfa238aa41b",
   "metadata": {},
   "outputs": [
    {
     "data": {
      "text/plain": [
       "venting_emissions_MtCO2\n",
       "0.0000    0.827586\n",
       "1.8186    0.068966\n",
       "4.1005    0.034483\n",
       "0.1484    0.034483\n",
       "0.0455    0.034483\n",
       "Name: count, dtype: float64"
      ]
     },
     "execution_count": 12,
     "metadata": {},
     "output_type": "execute_result"
    }
   ],
   "source": [
    "# test_df= unseen data\n",
    "test_df['venting_emissions_MtCO2'].value_counts()/train_df.shape[0]"
   ]
  },
  {
   "cell_type": "code",
   "execution_count": 13,
   "id": "71405ca0-0b1e-44da-8c25-8c254f77e59f",
   "metadata": {},
   "outputs": [
    {
     "name": "stderr",
     "output_type": "stream",
     "text": [
      "Warning: path already exists! This predictor may overwrite an existing predictor! path=\"Emissions_predictors2\"\n"
     ]
    }
   ],
   "source": [
    "# Create the predictor and fit the data\n",
    "predictor = TabularPredictor(label='venting_emissions_MtCO2', path='Emissions_predictors2')"
   ]
  },
  {
   "cell_type": "code",
   "execution_count": 14,
   "id": "3ddf5738-a9ce-4464-ae2e-7c62132f2e4c",
   "metadata": {},
   "outputs": [
    {
     "name": "stderr",
     "output_type": "stream",
     "text": [
      "Verbosity: 2 (Standard Logging)\n",
      "=================== System Info ===================\n",
      "AutoGluon Version:  1.2\n",
      "Python Version:     3.11.11\n",
      "Operating System:   Windows\n",
      "Platform Machine:   AMD64\n",
      "Platform Version:   10.0.22000\n",
      "CPU Count:          4\n",
      "Memory Avail:       4.43 GB / 11.89 GB (37.3%)\n",
      "Disk Space Avail:   14.05 GB / 237.77 GB (5.9%)\n",
      "===================================================\n",
      "No presets specified! To achieve strong results with AutoGluon, it is recommended to use the available presets. Defaulting to `'medium'`...\n",
      "\tRecommended Presets (For more details refer to https://auto.gluon.ai/stable/tutorials/tabular/tabular-essentials.html#presets):\n",
      "\tpresets='experimental' : New in v1.2: Pre-trained foundation model + parallel fits. The absolute best accuracy without consideration for inference speed. Does not support GPU.\n",
      "\tpresets='best'         : Maximize accuracy. Recommended for most users. Use in competitions and benchmarks.\n",
      "\tpresets='high'         : Strong accuracy with fast inference speed.\n",
      "\tpresets='good'         : Good accuracy with very fast inference speed.\n",
      "\tpresets='medium'       : Fast training time, ideal for initial prototyping.\n",
      "Beginning AutoGluon training ...\n",
      "AutoGluon will save models to \"C:\\Users\\admin\\Emissions_predictors2\"\n",
      "Train Data Rows:    29\n",
      "Train Data Columns: 15\n",
      "Label Column:       venting_emissions_MtCO2\n",
      "AutoGluon infers your prediction problem is: 'regression' (because dtype of label-column == float and many unique label-values observed).\n",
      "\tLabel info (max, min, mean, stddev): (4.1005, 0.0, 0.4149, 1.12241)\n",
      "\tIf 'regression' is not the correct problem_type, please manually specify the problem_type parameter during Predictor init (You may specify problem_type as one of: ['binary', 'multiclass', 'regression', 'quantile'])\n",
      "Problem Type:       regression\n",
      "Preprocessing data ...\n",
      "Using Feature Generators to preprocess the data ...\n",
      "Fitting AutoMLPipelineFeatureGenerator...\n",
      "\tAvailable Memory:                    4547.64 MB\n",
      "\tTrain Data (Original)  Memory Usage: 0.01 MB (0.0% of available memory)\n",
      "\tInferring data type of each feature based on column values. Set feature_metadata_in to manually specify special dtypes of the features.\n",
      "\tStage 1 Generators:\n",
      "\t\tFitting AsTypeFeatureGenerator...\n",
      "\t\t\tNote: Converting 2 features to boolean dtype as they only contain 2 unique values.\n",
      "\tStage 2 Generators:\n",
      "\t\tFitting FillNaFeatureGenerator...\n",
      "\tStage 3 Generators:\n",
      "\t\tFitting IdentityFeatureGenerator...\n",
      "\t\tFitting CategoryFeatureGenerator...\n",
      "\t\t\tFitting CategoryMemoryMinimizeFeatureGenerator...\n",
      "\t\tFitting TextSpecialFeatureGenerator...\n",
      "\t\t\tFitting BinnedFeatureGenerator...\n",
      "\t\t\tFitting DropDuplicatesFeatureGenerator...\n",
      "\t\tFitting TextNgramFeatureGenerator...\n",
      "\t\t\tFitting CountVectorizer for text features: ['parent_entity']\n",
      "\t\t\tRemoving text_ngram feature due to error: '__nlp__'\n",
      "\tStage 4 Generators:\n",
      "\t\tFitting DropUniqueFeatureGenerator...\n",
      "\tStage 5 Generators:\n",
      "\t\tFitting DropDuplicatesFeatureGenerator...\n",
      "\tTypes of features in original data (raw dtype, special dtypes):\n",
      "\t\t('float', [])        : 8 | ['production_value', 'product_emissions_MtCO2', 'flaring_emissions_MtCO2', 'own_fuel_use_emissions_MtCO2', 'fugitive_methane_emissions_MtCO2e', ...]\n",
      "\t\t('int', [])          : 1 | ['year']\n",
      "\t\t('object', [])       : 5 | ['parent_type', 'reporting_entity', 'commodity', 'production_unit', 'emissions_category']\n",
      "\t\t('object', ['text']) : 1 | ['parent_entity']\n",
      "\tTypes of features in processed data (raw dtype, special dtypes):\n",
      "\t\t('category', [])                    : 3 | ['reporting_entity', 'commodity', 'production_unit']\n",
      "\t\t('category', ['text_as_category'])  : 1 | ['parent_entity']\n",
      "\t\t('float', [])                       : 8 | ['production_value', 'product_emissions_MtCO2', 'flaring_emissions_MtCO2', 'own_fuel_use_emissions_MtCO2', 'fugitive_methane_emissions_MtCO2e', ...]\n",
      "\t\t('int', [])                         : 1 | ['year']\n",
      "\t\t('int', ['binned', 'text_special']) : 3 | ['parent_entity.char_count', 'parent_entity.capital_ratio', 'parent_entity.lower_ratio']\n",
      "\t\t('int', ['bool'])                   : 2 | ['parent_type', 'emissions_category']\n",
      "\t0.2s = Fit runtime\n",
      "\t15 features in original data used to generate 18 features in processed data.\n",
      "\tTrain Data (Processed) Memory Usage: 0.00 MB (0.0% of available memory)\n",
      "Data preprocessing and feature engineering runtime = 0.25s ...\n",
      "AutoGluon will gauge predictive performance using evaluation metric: 'root_mean_squared_error'\n",
      "\tThis metric's sign has been flipped to adhere to being higher_is_better. The metric score can be multiplied by -1 to get the metric value.\n",
      "\tTo change this, specify the eval_metric parameter of Predictor()\n",
      "Automatically generating train/validation split with holdout_frac=0.2, Train Rows: 23, Val Rows: 6\n",
      "User-specified model hyperparameters to be fit:\n",
      "{\n",
      "\t'NN_TORCH': [{}],\n",
      "\t'GBM': [{'extra_trees': True, 'ag_args': {'name_suffix': 'XT'}}, {}, {'learning_rate': 0.03, 'num_leaves': 128, 'feature_fraction': 0.9, 'min_data_in_leaf': 3, 'ag_args': {'name_suffix': 'Large', 'priority': 0, 'hyperparameter_tune_kwargs': None}}],\n",
      "\t'CAT': [{}],\n",
      "\t'XGB': [{}],\n",
      "\t'FASTAI': [{}],\n",
      "\t'RF': [{'criterion': 'gini', 'ag_args': {'name_suffix': 'Gini', 'problem_types': ['binary', 'multiclass']}}, {'criterion': 'entropy', 'ag_args': {'name_suffix': 'Entr', 'problem_types': ['binary', 'multiclass']}}, {'criterion': 'squared_error', 'ag_args': {'name_suffix': 'MSE', 'problem_types': ['regression', 'quantile']}}],\n",
      "\t'XT': [{'criterion': 'gini', 'ag_args': {'name_suffix': 'Gini', 'problem_types': ['binary', 'multiclass']}}, {'criterion': 'entropy', 'ag_args': {'name_suffix': 'Entr', 'problem_types': ['binary', 'multiclass']}}, {'criterion': 'squared_error', 'ag_args': {'name_suffix': 'MSE', 'problem_types': ['regression', 'quantile']}}],\n",
      "\t'KNN': [{'weights': 'uniform', 'ag_args': {'name_suffix': 'Unif'}}, {'weights': 'distance', 'ag_args': {'name_suffix': 'Dist'}}],\n",
      "}\n",
      "Fitting 11 L1 models, fit_strategy=\"sequential\" ...\n",
      "Fitting model: KNeighborsUnif ...\n",
      "\t-0.594\t = Validation score   (-root_mean_squared_error)\n",
      "\t4.25s\t = Training   runtime\n",
      "\t0.02s\t = Validation runtime\n",
      "Fitting model: KNeighborsDist ...\n",
      "\t-0.013\t = Validation score   (-root_mean_squared_error)\n",
      "\t0.0s\t = Training   runtime\n",
      "\t0.03s\t = Validation runtime\n",
      "Fitting model: LightGBMXT ...\n",
      "\t-0.6923\t = Validation score   (-root_mean_squared_error)\n",
      "\t0.51s\t = Training   runtime\n",
      "\t0.02s\t = Validation runtime\n",
      "Fitting model: LightGBM ...\n",
      "\t-0.6923\t = Validation score   (-root_mean_squared_error)\n",
      "\t0.36s\t = Training   runtime\n",
      "\t0.0s\t = Validation runtime\n",
      "Fitting model: RandomForestMSE ...\n",
      "\t-0.1255\t = Validation score   (-root_mean_squared_error)\n",
      "\t0.94s\t = Training   runtime\n",
      "\t0.06s\t = Validation runtime\n",
      "Fitting model: CatBoost ...\n",
      "\t-0.0165\t = Validation score   (-root_mean_squared_error)\n",
      "\t9.88s\t = Training   runtime\n",
      "\t0.0s\t = Validation runtime\n",
      "Fitting model: ExtraTreesMSE ...\n",
      "\t-0.0632\t = Validation score   (-root_mean_squared_error)\n",
      "\t0.73s\t = Training   runtime\n",
      "\t0.07s\t = Validation runtime\n",
      "Fitting model: NeuralNetFastAI ...\n",
      "No improvement since epoch 0: early stopping\n",
      "\t-0.8008\t = Validation score   (-root_mean_squared_error)\n",
      "\t1.48s\t = Training   runtime\n",
      "\t0.02s\t = Validation runtime\n",
      "Fitting model: XGBoost ...\n",
      "\t-0.0001\t = Validation score   (-root_mean_squared_error)\n",
      "\t0.41s\t = Training   runtime\n",
      "\t0.0s\t = Validation runtime\n",
      "Fitting model: NeuralNetTorch ...\n",
      "\t-0.0022\t = Validation score   (-root_mean_squared_error)\n",
      "\t3.72s\t = Training   runtime\n",
      "\t0.02s\t = Validation runtime\n",
      "Fitting model: LightGBMLarge ...\n",
      "\t-0.187\t = Validation score   (-root_mean_squared_error)\n",
      "\t0.42s\t = Training   runtime\n",
      "\t0.02s\t = Validation runtime\n",
      "Fitting model: WeightedEnsemble_L2 ...\n",
      "\tEnsemble Weights: {'XGBoost': 1.0}\n",
      "\t-0.0001\t = Validation score   (-root_mean_squared_error)\n",
      "\t0.03s\t = Training   runtime\n",
      "\t0.02s\t = Validation runtime\n",
      "AutoGluon training complete, total runtime = 23.53s ... Best model: WeightedEnsemble_L2 | Estimated inference throughput: 384.1 rows/s (6 batch size)\n",
      "TabularPredictor saved. To load, use: predictor = TabularPredictor.load(\"C:\\Users\\admin\\Emissions_predictors2\")\n"
     ]
    },
    {
     "data": {
      "text/plain": [
       "<autogluon.tabular.predictor.predictor.TabularPredictor at 0x17182b264d0>"
      ]
     },
     "execution_count": 14,
     "metadata": {},
     "output_type": "execute_result"
    }
   ],
   "source": [
    "# observe the output\n",
    "predictor.fit(train_df)"
   ]
  },
  {
   "cell_type": "code",
   "execution_count": 15,
   "id": "39fbf0b0-5226-4f86-acb8-c72e2251e6e8",
   "metadata": {},
   "outputs": [
    {
     "name": "stderr",
     "output_type": "stream",
     "text": [
      "C:\\Users\\admin\\anaconda3\\envs\\Gluon\\Lib\\site-packages\\fastai\\learner.py:455: UserWarning: load_learner` uses Python's insecure pickle module, which can execute malicious arbitrary code when loading. Only load files you trust.\n",
      "If you only need to load model weights and optimizer state, use the safe `Learner.load` instead.\n",
      "  warn(\"load_learner` uses Python's insecure pickle module, which can execute malicious arbitrary code when loading. Only load files you trust.\\nIf you only need to load model weights and optimizer state, use the safe `Learner.load` instead.\")\n"
     ]
    },
    {
     "name": "stdout",
     "output_type": "stream",
     "text": [
      "*** Summary of fit() ***\n",
      "Estimated performance of each model:\n",
      "                  model  score_val              eval_metric  pred_time_val  fit_time  pred_time_val_marginal  fit_time_marginal  stack_level  can_infer  fit_order\n",
      "0               XGBoost  -0.000106  root_mean_squared_error       0.000000  0.410929                0.000000           0.410929            1       True          9\n",
      "1   WeightedEnsemble_L2  -0.000106  root_mean_squared_error       0.015622  0.441080                0.015622           0.030151            2       True         12\n",
      "2        NeuralNetTorch  -0.002247  root_mean_squared_error       0.022488  3.716238                0.022488           3.716238            1       True         10\n",
      "3        KNeighborsDist  -0.013019  root_mean_squared_error       0.028963  0.000000                0.028963           0.000000            1       True          2\n",
      "4              CatBoost  -0.016488  root_mean_squared_error       0.000000  9.883606                0.000000           9.883606            1       True          6\n",
      "5         ExtraTreesMSE  -0.063226  root_mean_squared_error       0.071784  0.725154                0.071784           0.725154            1       True          7\n",
      "6       RandomForestMSE  -0.125487  root_mean_squared_error       0.060288  0.938235                0.060288           0.938235            1       True          5\n",
      "7         LightGBMLarge  -0.186978  root_mean_squared_error       0.015622  0.423414                0.015622           0.423414            1       True         11\n",
      "8        KNeighborsUnif  -0.593952  root_mean_squared_error       0.023024  4.253719                0.023024           4.253719            1       True          1\n",
      "9              LightGBM  -0.692257  root_mean_squared_error       0.000000  0.360913                0.000000           0.360913            1       True          4\n",
      "10           LightGBMXT  -0.692257  root_mean_squared_error       0.015623  0.514091                0.015623           0.514091            1       True          3\n",
      "11      NeuralNetFastAI  -0.800803  root_mean_squared_error       0.021132  1.477006                0.021132           1.477006            1       True          8\n",
      "Number of models trained: 12\n",
      "Types of models trained:\n",
      "{'RFModel', 'NNFastAiTabularModel', 'XTModel', 'CatBoostModel', 'KNNModel', 'LGBModel', 'TabularNeuralNetTorchModel', 'WeightedEnsembleModel', 'XGBoostModel'}\n",
      "Bagging used: False \n",
      "Multi-layer stack-ensembling used: False \n",
      "Feature Metadata (Processed):\n",
      "(raw dtype, special dtypes):\n",
      "('category', [])                    : 3 | ['reporting_entity', 'commodity', 'production_unit']\n",
      "('category', ['text_as_category'])  : 1 | ['parent_entity']\n",
      "('float', [])                       : 8 | ['production_value', 'product_emissions_MtCO2', 'flaring_emissions_MtCO2', 'own_fuel_use_emissions_MtCO2', 'fugitive_methane_emissions_MtCO2e', ...]\n",
      "('int', [])                         : 1 | ['year']\n",
      "('int', ['binned', 'text_special']) : 3 | ['parent_entity.char_count', 'parent_entity.capital_ratio', 'parent_entity.lower_ratio']\n",
      "('int', ['bool'])                   : 2 | ['parent_type', 'emissions_category']\n",
      "Plot summary of models saved to file: C:\\Users\\admin\\Emissions_predictors2SummaryOfModels.html\n",
      "*** End of fit() summary ***\n"
     ]
    },
    {
     "data": {
      "text/plain": [
       "{'model_types': {'KNeighborsUnif': 'KNNModel',\n",
       "  'KNeighborsDist': 'KNNModel',\n",
       "  'LightGBMXT': 'LGBModel',\n",
       "  'LightGBM': 'LGBModel',\n",
       "  'RandomForestMSE': 'RFModel',\n",
       "  'CatBoost': 'CatBoostModel',\n",
       "  'ExtraTreesMSE': 'XTModel',\n",
       "  'NeuralNetFastAI': 'NNFastAiTabularModel',\n",
       "  'XGBoost': 'XGBoostModel',\n",
       "  'NeuralNetTorch': 'TabularNeuralNetTorchModel',\n",
       "  'LightGBMLarge': 'LGBModel',\n",
       "  'WeightedEnsemble_L2': 'WeightedEnsembleModel'},\n",
       " 'model_performance': {'KNeighborsUnif': -0.593952272915719,\n",
       "  'KNeighborsDist': -0.013019466236819419,\n",
       "  'LightGBMXT': -0.6922566357469395,\n",
       "  'LightGBM': -0.6922566357469395,\n",
       "  'RandomForestMSE': -0.12548739184690486,\n",
       "  'CatBoost': -0.016488492454328953,\n",
       "  'ExtraTreesMSE': -0.06322649699596629,\n",
       "  'NeuralNetFastAI': -0.8008031649572963,\n",
       "  'XGBoost': -0.00010606127259181047,\n",
       "  'NeuralNetTorch': -0.002247069096715695,\n",
       "  'LightGBMLarge': -0.18697801011047066,\n",
       "  'WeightedEnsemble_L2': -0.00010606127259181047},\n",
       " 'model_best': 'WeightedEnsemble_L2',\n",
       " 'model_paths': {'KNeighborsUnif': ['KNeighborsUnif'],\n",
       "  'KNeighborsDist': ['KNeighborsDist'],\n",
       "  'LightGBMXT': ['LightGBMXT'],\n",
       "  'LightGBM': ['LightGBM'],\n",
       "  'RandomForestMSE': ['RandomForestMSE'],\n",
       "  'CatBoost': ['CatBoost'],\n",
       "  'ExtraTreesMSE': ['ExtraTreesMSE'],\n",
       "  'NeuralNetFastAI': ['NeuralNetFastAI'],\n",
       "  'XGBoost': ['XGBoost'],\n",
       "  'NeuralNetTorch': ['NeuralNetTorch'],\n",
       "  'LightGBMLarge': ['LightGBMLarge'],\n",
       "  'WeightedEnsemble_L2': ['WeightedEnsemble_L2']},\n",
       " 'model_fit_times': {'KNeighborsUnif': 4.253718614578247,\n",
       "  'KNeighborsDist': 0.0,\n",
       "  'LightGBMXT': 0.5140907764434814,\n",
       "  'LightGBM': 0.3609132766723633,\n",
       "  'RandomForestMSE': 0.938234806060791,\n",
       "  'CatBoost': 9.88360595703125,\n",
       "  'ExtraTreesMSE': 0.7251541614532471,\n",
       "  'NeuralNetFastAI': 1.477006435394287,\n",
       "  'XGBoost': 0.41092896461486816,\n",
       "  'NeuralNetTorch': 3.716238021850586,\n",
       "  'LightGBMLarge': 0.4234139919281006,\n",
       "  'WeightedEnsemble_L2': 0.030150651931762695},\n",
       " 'model_pred_times': {'KNeighborsUnif': 0.023023605346679688,\n",
       "  'KNeighborsDist': 0.02896261215209961,\n",
       "  'LightGBMXT': 0.015623092651367188,\n",
       "  'LightGBM': 0.0,\n",
       "  'RandomForestMSE': 0.060288190841674805,\n",
       "  'CatBoost': 0.0,\n",
       "  'ExtraTreesMSE': 0.07178401947021484,\n",
       "  'NeuralNetFastAI': 0.02113199234008789,\n",
       "  'XGBoost': 0.0,\n",
       "  'NeuralNetTorch': 0.022487640380859375,\n",
       "  'LightGBMLarge': 0.015621662139892578,\n",
       "  'WeightedEnsemble_L2': 0.015622138977050781},\n",
       " 'num_bag_folds': 0,\n",
       " 'max_stack_level': 2,\n",
       " 'model_hyperparams': {'KNeighborsUnif': {'weights': 'uniform'},\n",
       "  'KNeighborsDist': {'weights': 'distance'},\n",
       "  'LightGBMXT': {'learning_rate': 0.05, 'extra_trees': True},\n",
       "  'LightGBM': {'learning_rate': 0.05},\n",
       "  'RandomForestMSE': {'n_estimators': 300,\n",
       "   'max_leaf_nodes': 15000,\n",
       "   'n_jobs': -1,\n",
       "   'random_state': 0,\n",
       "   'bootstrap': True,\n",
       "   'criterion': 'squared_error'},\n",
       "  'CatBoost': {'iterations': 10000,\n",
       "   'learning_rate': 0.05,\n",
       "   'random_seed': 0,\n",
       "   'allow_writing_files': False,\n",
       "   'eval_metric': 'RMSE'},\n",
       "  'ExtraTreesMSE': {'n_estimators': 300,\n",
       "   'max_leaf_nodes': 15000,\n",
       "   'n_jobs': -1,\n",
       "   'random_state': 0,\n",
       "   'bootstrap': True,\n",
       "   'criterion': 'squared_error'},\n",
       "  'NeuralNetFastAI': {'layers': None,\n",
       "   'emb_drop': 0.1,\n",
       "   'ps': 0.1,\n",
       "   'bs': 'auto',\n",
       "   'lr': 0.01,\n",
       "   'epochs': 'auto',\n",
       "   'early.stopping.min_delta': 0.0001,\n",
       "   'early.stopping.patience': 20,\n",
       "   'smoothing': 0.0},\n",
       "  'XGBoost': {'n_estimators': 10000,\n",
       "   'learning_rate': 0.1,\n",
       "   'n_jobs': -1,\n",
       "   'proc.max_category_levels': 100,\n",
       "   'objective': 'reg:squarederror',\n",
       "   'booster': 'gbtree'},\n",
       "  'NeuralNetTorch': {'num_epochs': 1000,\n",
       "   'epochs_wo_improve': None,\n",
       "   'activation': 'relu',\n",
       "   'embedding_size_factor': 1.0,\n",
       "   'embed_exponent': 0.56,\n",
       "   'max_embedding_dim': 100,\n",
       "   'y_range': None,\n",
       "   'y_range_extend': 0.05,\n",
       "   'dropout_prob': 0.1,\n",
       "   'optimizer': 'adam',\n",
       "   'learning_rate': 0.0003,\n",
       "   'weight_decay': 1e-06,\n",
       "   'proc.embed_min_categories': 4,\n",
       "   'proc.impute_strategy': 'median',\n",
       "   'proc.max_category_levels': 100,\n",
       "   'proc.skew_threshold': 0.99,\n",
       "   'use_ngram_features': False,\n",
       "   'num_layers': 4,\n",
       "   'hidden_size': 128,\n",
       "   'max_batch_size': 512,\n",
       "   'use_batchnorm': False,\n",
       "   'loss_function': 'auto'},\n",
       "  'LightGBMLarge': {'learning_rate': 0.03,\n",
       "   'num_leaves': 128,\n",
       "   'feature_fraction': 0.9,\n",
       "   'min_data_in_leaf': 3},\n",
       "  'WeightedEnsemble_L2': {'use_orig_features': False,\n",
       "   'valid_stacker': True,\n",
       "   'max_base_models': 0,\n",
       "   'max_base_models_per_type': 'auto',\n",
       "   'save_bag_folds': True}},\n",
       " 'leaderboard':                   model  score_val              eval_metric  pred_time_val  \\\n",
       " 0               XGBoost  -0.000106  root_mean_squared_error       0.000000   \n",
       " 1   WeightedEnsemble_L2  -0.000106  root_mean_squared_error       0.015622   \n",
       " 2        NeuralNetTorch  -0.002247  root_mean_squared_error       0.022488   \n",
       " 3        KNeighborsDist  -0.013019  root_mean_squared_error       0.028963   \n",
       " 4              CatBoost  -0.016488  root_mean_squared_error       0.000000   \n",
       " 5         ExtraTreesMSE  -0.063226  root_mean_squared_error       0.071784   \n",
       " 6       RandomForestMSE  -0.125487  root_mean_squared_error       0.060288   \n",
       " 7         LightGBMLarge  -0.186978  root_mean_squared_error       0.015622   \n",
       " 8        KNeighborsUnif  -0.593952  root_mean_squared_error       0.023024   \n",
       " 9              LightGBM  -0.692257  root_mean_squared_error       0.000000   \n",
       " 10           LightGBMXT  -0.692257  root_mean_squared_error       0.015623   \n",
       " 11      NeuralNetFastAI  -0.800803  root_mean_squared_error       0.021132   \n",
       " \n",
       "     fit_time  pred_time_val_marginal  fit_time_marginal  stack_level  \\\n",
       " 0   0.410929                0.000000           0.410929            1   \n",
       " 1   0.441080                0.015622           0.030151            2   \n",
       " 2   3.716238                0.022488           3.716238            1   \n",
       " 3   0.000000                0.028963           0.000000            1   \n",
       " 4   9.883606                0.000000           9.883606            1   \n",
       " 5   0.725154                0.071784           0.725154            1   \n",
       " 6   0.938235                0.060288           0.938235            1   \n",
       " 7   0.423414                0.015622           0.423414            1   \n",
       " 8   4.253719                0.023024           4.253719            1   \n",
       " 9   0.360913                0.000000           0.360913            1   \n",
       " 10  0.514091                0.015623           0.514091            1   \n",
       " 11  1.477006                0.021132           1.477006            1   \n",
       " \n",
       "     can_infer  fit_order  \n",
       " 0        True          9  \n",
       " 1        True         12  \n",
       " 2        True         10  \n",
       " 3        True          2  \n",
       " 4        True          6  \n",
       " 5        True          7  \n",
       " 6        True          5  \n",
       " 7        True         11  \n",
       " 8        True          1  \n",
       " 9        True          4  \n",
       " 10       True          3  \n",
       " 11       True          8  }"
      ]
     },
     "execution_count": 15,
     "metadata": {},
     "output_type": "execute_result"
    }
   ],
   "source": [
    "# summary\n",
    "predictor.fit_summary()"
   ]
  },
  {
   "cell_type": "code",
   "execution_count": 16,
   "id": "b15b4f78-67c2-49e0-97b4-16d2e01d4281",
   "metadata": {},
   "outputs": [
    {
     "data": {
      "text/plain": [
       "Index(['year', 'parent_entity', 'parent_type', 'reporting_entity', 'commodity',\n",
       "       'production_value', 'production_unit', 'product_emissions_MtCO2',\n",
       "       'flaring_emissions_MtCO2', 'venting_emissions_MtCO2',\n",
       "       'own_fuel_use_emissions_MtCO2', 'fugitive_methane_emissions_MtCO2e',\n",
       "       'fugitive_methane_emissions_MtCH4',\n",
       "       'total_operational_emissions_MtCO2e', 'total_emissions_MtCO2e',\n",
       "       'emissions_category'],\n",
       "      dtype='object')"
      ]
     },
     "execution_count": 16,
     "metadata": {},
     "output_type": "execute_result"
    }
   ],
   "source": [
    "test_df.columns"
   ]
  },
  {
   "cell_type": "markdown",
   "id": "4e668aea-69ac-48d4-a1dd-f7e0af8073cd",
   "metadata": {},
   "source": [
    "## Prediction"
   ]
  },
  {
   "cell_type": "code",
   "execution_count": 17,
   "id": "eaf37f1e-ff8b-478f-a8a7-801d209a3955",
   "metadata": {},
   "outputs": [],
   "source": [
    "# validate the model against unseen data\n",
    "y_test = test_df['venting_emissions_MtCO2']\n",
    "test_data = test_df.drop(columns=['venting_emissions_MtCO2'])"
   ]
  },
  {
   "cell_type": "code",
   "execution_count": 18,
   "id": "124e741c-e413-45bb-a502-a745898a7733",
   "metadata": {},
   "outputs": [],
   "source": [
    "y_pred = predictor.predict(test_data)"
   ]
  },
  {
   "cell_type": "markdown",
   "id": "f678a044-5871-4083-92ca-0bc4974025be",
   "metadata": {},
   "source": [
    "## Evaluation"
   ]
  },
  {
   "cell_type": "code",
   "execution_count": 19,
   "id": "e8d59236-59c7-4e6c-936b-e9ca230de148",
   "metadata": {},
   "outputs": [],
   "source": [
    "metrics = predictor.evaluate_predictions(y_true=y_test, y_pred=y_pred, auxiliary_metrics=True)\n"
   ]
  },
  {
   "cell_type": "code",
   "execution_count": 20,
   "id": "7d2aad45-4c71-42b7-bb2d-ddad63d86dbe",
   "metadata": {},
   "outputs": [
    {
     "data": {
      "text/plain": [
       "{'root_mean_squared_error': 0.0001990213407679247,\n",
       " 'mean_squared_error': 3.96094940810624e-08,\n",
       " 'mean_absolute_error': 0.00010086021324748962,\n",
       " 'r2': 0.999999946029735,\n",
       " 'pearsonr': 0.9999999967263327,\n",
       " 'median_absolute_error': 4.509067366598174e-05}"
      ]
     },
     "execution_count": 20,
     "metadata": {},
     "output_type": "execute_result"
    }
   ],
   "source": [
    "# Using absolute values for rmse, mse, and median absolute error\n",
    "\n",
    "absolute_metrics = {key:abs(value) for key, value in metrics.items()}\n",
    "absolute_metrics"
   ]
  },
  {
   "cell_type": "code",
   "execution_count": 21,
   "id": "0c0a3fdd-63ba-4e46-b779-d6479e940287",
   "metadata": {},
   "outputs": [
    {
     "name": "stderr",
     "output_type": "stream",
     "text": [
      "Computing feature importance via permutation shuffling for 15 features using 29 rows with 5 shuffle sets...\n",
      "\t4.86s\t= Expected runtime (0.97s per shuffle set)\n",
      "\t0.49s\t= Actual runtime (Completed 5 of 5 shuffle sets)\n"
     ]
    },
    {
     "data": {
      "text/html": [
       "<div>\n",
       "<style scoped>\n",
       "    .dataframe tbody tr th:only-of-type {\n",
       "        vertical-align: middle;\n",
       "    }\n",
       "\n",
       "    .dataframe tbody tr th {\n",
       "        vertical-align: top;\n",
       "    }\n",
       "\n",
       "    .dataframe thead th {\n",
       "        text-align: right;\n",
       "    }\n",
       "</style>\n",
       "<table border=\"1\" class=\"dataframe\">\n",
       "  <thead>\n",
       "    <tr style=\"text-align: right;\">\n",
       "      <th></th>\n",
       "      <th>importance</th>\n",
       "      <th>stddev</th>\n",
       "      <th>p_value</th>\n",
       "      <th>n</th>\n",
       "      <th>p99_high</th>\n",
       "      <th>p99_low</th>\n",
       "    </tr>\n",
       "  </thead>\n",
       "  <tbody>\n",
       "    <tr>\n",
       "      <th>reporting_entity</th>\n",
       "      <td>1.032624</td>\n",
       "      <td>0.129683</td>\n",
       "      <td>0.000029</td>\n",
       "      <td>5</td>\n",
       "      <td>1.299642</td>\n",
       "      <td>0.765606</td>\n",
       "    </tr>\n",
       "    <tr>\n",
       "      <th>commodity</th>\n",
       "      <td>0.458047</td>\n",
       "      <td>0.078328</td>\n",
       "      <td>0.000099</td>\n",
       "      <td>5</td>\n",
       "      <td>0.619325</td>\n",
       "      <td>0.296769</td>\n",
       "    </tr>\n",
       "    <tr>\n",
       "      <th>parent_entity</th>\n",
       "      <td>0.020766</td>\n",
       "      <td>0.004303</td>\n",
       "      <td>0.000209</td>\n",
       "      <td>5</td>\n",
       "      <td>0.029626</td>\n",
       "      <td>0.011906</td>\n",
       "    </tr>\n",
       "    <tr>\n",
       "      <th>year</th>\n",
       "      <td>0.020440</td>\n",
       "      <td>0.003520</td>\n",
       "      <td>0.000101</td>\n",
       "      <td>5</td>\n",
       "      <td>0.027688</td>\n",
       "      <td>0.013192</td>\n",
       "    </tr>\n",
       "    <tr>\n",
       "      <th>production_value</th>\n",
       "      <td>0.000831</td>\n",
       "      <td>0.000109</td>\n",
       "      <td>0.000034</td>\n",
       "      <td>5</td>\n",
       "      <td>0.001055</td>\n",
       "      <td>0.000607</td>\n",
       "    </tr>\n",
       "    <tr>\n",
       "      <th>parent_type</th>\n",
       "      <td>0.000000</td>\n",
       "      <td>0.000000</td>\n",
       "      <td>0.500000</td>\n",
       "      <td>5</td>\n",
       "      <td>0.000000</td>\n",
       "      <td>0.000000</td>\n",
       "    </tr>\n",
       "    <tr>\n",
       "      <th>production_unit</th>\n",
       "      <td>0.000000</td>\n",
       "      <td>0.000000</td>\n",
       "      <td>0.500000</td>\n",
       "      <td>5</td>\n",
       "      <td>0.000000</td>\n",
       "      <td>0.000000</td>\n",
       "    </tr>\n",
       "    <tr>\n",
       "      <th>product_emissions_MtCO2</th>\n",
       "      <td>0.000000</td>\n",
       "      <td>0.000000</td>\n",
       "      <td>0.500000</td>\n",
       "      <td>5</td>\n",
       "      <td>0.000000</td>\n",
       "      <td>0.000000</td>\n",
       "    </tr>\n",
       "    <tr>\n",
       "      <th>flaring_emissions_MtCO2</th>\n",
       "      <td>0.000000</td>\n",
       "      <td>0.000000</td>\n",
       "      <td>0.500000</td>\n",
       "      <td>5</td>\n",
       "      <td>0.000000</td>\n",
       "      <td>0.000000</td>\n",
       "    </tr>\n",
       "    <tr>\n",
       "      <th>own_fuel_use_emissions_MtCO2</th>\n",
       "      <td>0.000000</td>\n",
       "      <td>0.000000</td>\n",
       "      <td>0.500000</td>\n",
       "      <td>5</td>\n",
       "      <td>0.000000</td>\n",
       "      <td>0.000000</td>\n",
       "    </tr>\n",
       "    <tr>\n",
       "      <th>fugitive_methane_emissions_MtCO2e</th>\n",
       "      <td>0.000000</td>\n",
       "      <td>0.000000</td>\n",
       "      <td>0.500000</td>\n",
       "      <td>5</td>\n",
       "      <td>0.000000</td>\n",
       "      <td>0.000000</td>\n",
       "    </tr>\n",
       "    <tr>\n",
       "      <th>fugitive_methane_emissions_MtCH4</th>\n",
       "      <td>0.000000</td>\n",
       "      <td>0.000000</td>\n",
       "      <td>0.500000</td>\n",
       "      <td>5</td>\n",
       "      <td>0.000000</td>\n",
       "      <td>0.000000</td>\n",
       "    </tr>\n",
       "    <tr>\n",
       "      <th>total_operational_emissions_MtCO2e</th>\n",
       "      <td>0.000000</td>\n",
       "      <td>0.000000</td>\n",
       "      <td>0.500000</td>\n",
       "      <td>5</td>\n",
       "      <td>0.000000</td>\n",
       "      <td>0.000000</td>\n",
       "    </tr>\n",
       "    <tr>\n",
       "      <th>total_emissions_MtCO2e</th>\n",
       "      <td>0.000000</td>\n",
       "      <td>0.000000</td>\n",
       "      <td>0.500000</td>\n",
       "      <td>5</td>\n",
       "      <td>0.000000</td>\n",
       "      <td>0.000000</td>\n",
       "    </tr>\n",
       "    <tr>\n",
       "      <th>emissions_category</th>\n",
       "      <td>0.000000</td>\n",
       "      <td>0.000000</td>\n",
       "      <td>0.500000</td>\n",
       "      <td>5</td>\n",
       "      <td>0.000000</td>\n",
       "      <td>0.000000</td>\n",
       "    </tr>\n",
       "  </tbody>\n",
       "</table>\n",
       "</div>"
      ],
      "text/plain": [
       "                                    importance    stddev   p_value  n  \\\n",
       "reporting_entity                      1.032624  0.129683  0.000029  5   \n",
       "commodity                             0.458047  0.078328  0.000099  5   \n",
       "parent_entity                         0.020766  0.004303  0.000209  5   \n",
       "year                                  0.020440  0.003520  0.000101  5   \n",
       "production_value                      0.000831  0.000109  0.000034  5   \n",
       "parent_type                           0.000000  0.000000  0.500000  5   \n",
       "production_unit                       0.000000  0.000000  0.500000  5   \n",
       "product_emissions_MtCO2               0.000000  0.000000  0.500000  5   \n",
       "flaring_emissions_MtCO2               0.000000  0.000000  0.500000  5   \n",
       "own_fuel_use_emissions_MtCO2          0.000000  0.000000  0.500000  5   \n",
       "fugitive_methane_emissions_MtCO2e     0.000000  0.000000  0.500000  5   \n",
       "fugitive_methane_emissions_MtCH4      0.000000  0.000000  0.500000  5   \n",
       "total_operational_emissions_MtCO2e    0.000000  0.000000  0.500000  5   \n",
       "total_emissions_MtCO2e                0.000000  0.000000  0.500000  5   \n",
       "emissions_category                    0.000000  0.000000  0.500000  5   \n",
       "\n",
       "                                    p99_high   p99_low  \n",
       "reporting_entity                    1.299642  0.765606  \n",
       "commodity                           0.619325  0.296769  \n",
       "parent_entity                       0.029626  0.011906  \n",
       "year                                0.027688  0.013192  \n",
       "production_value                    0.001055  0.000607  \n",
       "parent_type                         0.000000  0.000000  \n",
       "production_unit                     0.000000  0.000000  \n",
       "product_emissions_MtCO2             0.000000  0.000000  \n",
       "flaring_emissions_MtCO2             0.000000  0.000000  \n",
       "own_fuel_use_emissions_MtCO2        0.000000  0.000000  \n",
       "fugitive_methane_emissions_MtCO2e   0.000000  0.000000  \n",
       "fugitive_methane_emissions_MtCH4    0.000000  0.000000  \n",
       "total_operational_emissions_MtCO2e  0.000000  0.000000  \n",
       "total_emissions_MtCO2e              0.000000  0.000000  \n",
       "emissions_category                  0.000000  0.000000  "
      ]
     },
     "execution_count": 21,
     "metadata": {},
     "output_type": "execute_result"
    }
   ],
   "source": [
    "# Feature Importance\n",
    "importance = predictor.feature_importance(test_df)\n",
    "importance"
   ]
  },
  {
   "cell_type": "markdown",
   "id": "4c163155-e1a2-4eb4-9f9f-ef3d9a93c5e9",
   "metadata": {},
   "source": [
    "## Testing/ Use Case"
   ]
  },
  {
   "cell_type": "code",
   "execution_count": 22,
   "id": "6dfc67ba-fe2e-4b40-bb7e-c19cd5991e71",
   "metadata": {},
   "outputs": [],
   "source": [
    "# Use Case!\n",
    "# Adjust the lead times on the reservation, or another features and test!\n",
    "res = {\n",
    "    \"venting_emissions_MtCO2\" : 1,\n",
    "    \"total_operational_emissions_MtCO2e\" : 1,\n",
    "    \"parent_entity\" : 0,\n",
    "    \"product_emissions_MtCO2\" : 3,\n",
    "    \"fugitive_methane_emissions_MtCH4\" : 4,\n",
    "    \"total_emissions_MtCO2e\" : 0,\n",
    "    \"production_value\" : 3,\n",
    "    \"fugitive_methane_emissions_MtCO2e\" : 190,\n",
    "    \"flaring_emissions_MtCO2\" : 2023,\n",
    "    \"year\" : 11,\n",
    "    \"parent_type\" : 3,\n",
    "    \"reporting_entity\" : \"Online\",\n",
    "    \"commodity\" : 0,\n",
    "    \"production_unit\" : 0,\n",
    "    \"own_fuel_use_emissions_MtCO2\" : 10,\n",
    "    \"emissions_category\": 0\n",
    "  \n",
    "  }"
   ]
  },
  {
   "cell_type": "code",
   "execution_count": 23,
   "id": "c63c8c6b-7202-4547-86f1-8596911d4585",
   "metadata": {},
   "outputs": [
    {
     "data": {
      "text/plain": [
       "0    0.000045\n",
       "Name: venting_emissions_MtCO2, dtype: float32"
      ]
     },
     "execution_count": 23,
     "metadata": {},
     "output_type": "execute_result"
    }
   ],
   "source": [
    "Emission_data = TabularDataset([res])\n",
    "predictor.predict(Emission_data)"
   ]
  },
  {
   "cell_type": "markdown",
   "id": "987739e6-537a-413d-bbe8-0b20bf60ddec",
   "metadata": {},
   "source": [
    "## Vizualization"
   ]
  },
  {
   "cell_type": "code",
   "execution_count": 24,
   "id": "0e2cc2c0-b29f-44d7-92e9-49163ffbb767",
   "metadata": {},
   "outputs": [
    {
     "data": {
      "text/plain": [
       "count    169.000000\n",
       "mean       0.758836\n",
       "std        0.970974\n",
       "min        0.000000\n",
       "25%        0.000000\n",
       "50%        0.418800\n",
       "75%        1.109400\n",
       "max        4.100500\n",
       "Name: venting_emissions_MtCO2, dtype: float64"
      ]
     },
     "execution_count": 24,
     "metadata": {},
     "output_type": "execute_result"
    }
   ],
   "source": [
    "data['venting_emissions_MtCO2'].describe()"
   ]
  },
  {
   "cell_type": "code",
   "execution_count": 25,
   "id": "f56e07ae-c964-4929-8676-0e0d4cf4df24",
   "metadata": {},
   "outputs": [
    {
     "data": {
      "image/png": "[encoded data removed]",
      "text/plain": [
       "<Figure size 640x480 with 1 Axes>"
      ]
     },
     "metadata": {},
     "output_type": "display_data"
    }
   ],
   "source": [
    "sns.boxplot(x=data['venting_emissions_MtCO2']);\n"
   ]
  },
  {
   "cell_type": "code",
   "execution_count": 26,
   "id": "feeb88db-a5a7-41e4-9f77-d29ca93a4730",
   "metadata": {},
   "outputs": [
    {
     "data": {
      "image/png": "[encoded data removed]",
      "text/plain": [
       "<Figure size 1000x600 with 1 Axes>"
      ]
     },
     "metadata": {},
     "output_type": "display_data"
    }
   ],
   "source": [
    "# Convert to DataFrame for plotting\n",
    "df_metrics = pd.DataFrame(list(metrics.items()), columns=['Metric', 'Value'])\n",
    "\n",
    "# Create a bar plot (future-proofed)\n",
    "plt.figure(figsize=(10, 6))\n",
    "sns.barplot(data=df_metrics, x='Metric', y='Value', hue='Metric', palette='Blues_d', legend=False)\n",
    "plt.xticks(rotation=45, ha='right')\n",
    "plt.title('Model Evaluation Metrics')\n",
    "plt.tight_layout()\n",
    "plt.show()\n"
   ]
  },
  {
   "cell_type": "code",
   "execution_count": 27,
   "id": "e5d8f98e-e75e-4fb1-8782-52d3d3f9832a",
   "metadata": {},
   "outputs": [
    {
     "data": {
      "image/png": "[encoded data removed]",
      "text/plain": [
       "<Figure size 640x480 with 1 Axes>"
      ]
     },
     "metadata": {},
     "output_type": "display_data"
    }
   ],
   "source": [
    "# Extract and log-transform values (skip non-positive)\n",
    "metric_values = list(metrics.values())\n",
    "log_metrics = np.log10([value for value in metric_values if value > 0])\n",
    "\n",
    "# QQ plot\n",
    "stats.probplot(log_metrics, dist=\"norm\", plot=plt)\n",
    "plt.title(\"QQ Plot of Log10-Transformed Metrics\")\n",
    "plt.show()"
   ]
  },
  {
   "cell_type": "code",
   "execution_count": 28,
   "id": "724d8451-e419-4948-8e6e-f1fb9f3884d6",
   "metadata": {},
   "outputs": [
    {
     "data": {
      "image/png": "[encoded data removed]",
      "text/plain": [
       "<Figure size 1000x500 with 1 Axes>"
      ]
     },
     "metadata": {},
     "output_type": "display_data"
    }
   ],
   "source": [
    "import matplotlib.pyplot as plt\n",
    "\n",
    "# Names and values\n",
    "metric_names = list(metrics.keys())\n",
    "metric_vals = list(metrics.values())\n",
    "\n",
    "# Bar plot\n",
    "plt.figure(figsize=(10, 5))\n",
    "plt.barh(metric_names, metric_vals, color='steelblue')\n",
    "plt.title(\"Model Evaluation Metrics\")\n",
    "plt.xlabel(\"Value\")\n",
    "plt.grid(True, axis='x')\n",
    "plt.tight_layout()\n",
    "plt.show()\n"
   ]
  },
  {
   "cell_type": "markdown",
   "id": "d0e148fc-2919-4acc-a4cc-a8ee088d3b10",
   "metadata": {},
   "source": [
    "## Conclusion"
   ]
  },
  {
   "cell_type": "markdown",
   "id": "d426b7c0-b554-4817-8389-af0381b40079",
   "metadata": {},
   "source": [
    "\n",
    "### **Metric Interpretation**\n",
    "\n",
    "\n",
    "**Root Mean Squared Error (RMSE)**, **(0.000100)** -  Very low average error between predictions and true values, penalizing larger errors more.   \n",
    "**Mean Squared Error (MSE)**, **(3.96e-08)** -  Extremely small squared error – indicates that predictions are almost perfect.   \n",
    "**Mean Absolute Error (MAE)**, **(0.000101)** -  On average, predictions are off by only ~0.0001 units. That’s extremely accurate.   \n",
    "**Median Absolute Error** , **(4.5e-05)** -  Half the predictions deviate from the actual value by less than ~0.000045. Again, very tight prediction accuracy.  \n",
    "**R² (Coefficient of Determination)**, **(0.99999995)** -  Almost 1.0 — means the model explains virtually all variance in the target variable.    \n",
    "**Pearson Correlation (r)**, **(0.999999997)** -Perfect linear correlation between predicted and actual values. This is near theoretical perfection. \n",
    "\n",
    "\n",
    "### **Conclusion**\n",
    "\n",
    "The AutoGluon framework performs exceptionally well on this dataset.\n",
    "\n",
    "- It makes extremely precise predictions, with negligible error.\n",
    "- The R² score and Pearson correlation suggest the model almost perfectly fits the data.\n",
    "- This level of performance indicates:\n",
    "  - High-quality features (good signal in the predictors)\n",
    "  - No major overfitting or underfitting on the test data\n",
    "  - Possibly low noise or synthetic/clean data\n",
    "\n",
    "\n"
   ]
  }
 ],
 "metadata": {
  "kernelspec": {
   "display_name": "Python 3 (ipykernel)",
   "language": "python",
   "name": "python3"
  },
  "language_info": {
   "codemirror_mode": {
    "name": "ipython",
    "version": 3
   },
   "file_extension": ".py",
   "mimetype": "text/x-python",
   "name": "python",
   "nbconvert_exporter": "python",
   "pygments_lexer": "ipython3",
   "version": "3.11.11"
  }
 },
 "nbformat": 4,
 "nbformat_minor": 5
}
